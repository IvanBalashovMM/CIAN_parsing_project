{
 "cells": [
  {
   "cell_type": "markdown",
   "metadata": {},
   "source": [
    "# Библиотеки:"
   ]
  },
  {
   "cell_type": "code",
   "execution_count": 3,
   "metadata": {
    "collapsed": true
   },
   "outputs": [],
   "source": [
    "import requests\n",
    "import re\n",
    "from bs4 import BeautifulSoup\n",
    "import pandas as pd\n",
    "import time\n",
    "import numpy as np"
   ]
  },
  {
   "cell_type": "markdown",
   "metadata": {},
   "source": [
    "# Функции:"
   ]
  },
  {
   "cell_type": "code",
   "execution_count": 4,
   "metadata": {
    "collapsed": true
   },
   "outputs": [],
   "source": [
    "#Для извлечения каждого параметра написана небольшая функция\n",
    "\n",
    "#С ценой все понятно, да и с остальными параметрами вроде тоже...\n",
    "# Здесь мы берем 4 числа из списка с ценой, т.к. это позволит выкачивать цены большие миллиарда,\n",
    "# а для цен меньше миллиарда это ничего не испортит"
   ]
  },
  {
   "cell_type": "code",
   "execution_count": 5,
   "metadata": {
    "collapsed": false
   },
   "outputs": [],
   "source": [
    "def getPrice(flat_page):\n",
    "    try:\n",
    "        price = flat_page.find('div', attrs={'class':'object_descr_price'})\n",
    "        price = re.split('<div>|руб|\\W', str(price))\n",
    "        price = \"\".join([i for i in price if i.isdigit()][-4:])\n",
    "        return int(price)\n",
    "    except: \n",
    "        return np.NaN\n",
    "    "
   ]
  },
  {
   "cell_type": "code",
   "execution_count": 6,
   "metadata": {
    "collapsed": true
   },
   "outputs": [],
   "source": [
    "#В качестве центра города взяты координаты Кремля\n",
    "#Расстояние вычисляется по теореме Пифагора"
   ]
  },
  {
   "cell_type": "code",
   "execution_count": 7,
   "metadata": {
    "collapsed": false
   },
   "outputs": [],
   "source": [
    "lat_c = 55.752037\n",
    "lon_c = 37.617778\n",
    "def getDist(flat_page):\n",
    "    try:\n",
    "        coords = flat_page.find('div', attrs={'class':'map_info_button_extend'}).contents[1]\n",
    "        coords = re.split('&amp|center=|%2C', str(coords))\n",
    "        coords_list = []\n",
    "        for item in coords:\n",
    "            if item[0].isdigit():\n",
    "                coords_list.append(item)\n",
    "        lat = float(coords_list[0])\n",
    "        lon = float(coords_list[1])\n",
    "        return ((((lat_c - lat)**2)+((lon_c - lon)**2))**(1/2))/0.014723278711700902\n",
    "    except: \n",
    "        return np.NaN   "
   ]
  },
  {
   "cell_type": "code",
   "execution_count": 8,
   "metadata": {
    "collapsed": true
   },
   "outputs": [],
   "source": [
    "#Дальше все более менее поянятно"
   ]
  },
  {
   "cell_type": "code",
   "execution_count": 9,
   "metadata": {
    "collapsed": false
   },
   "outputs": [],
   "source": [
    "def getRoom(flat_page):\n",
    "    try:\n",
    "        rooms = flat_page.find('div', attrs={'class':'object_descr_title'})\n",
    "        rooms = html_stripper(rooms)\n",
    "        room_number = ''\n",
    "        for i in re.split('-|\\n', rooms):\n",
    "            if 'комн' in i:\n",
    "                break\n",
    "            else:\n",
    "                room_number += i\n",
    "        room_number = \"\".join(room_number.split())\n",
    "        return room_number\n",
    "    except: \n",
    "        return np.NaN "
   ]
  },
  {
   "cell_type": "code",
   "execution_count": 10,
   "metadata": {
    "collapsed": true
   },
   "outputs": [],
   "source": [
    "# Дальше почти все берем из таблички на странице с квартирой"
   ]
  },
  {
   "cell_type": "code",
   "execution_count": 11,
   "metadata": {
    "collapsed": false
   },
   "outputs": [],
   "source": [
    "def getNew(flat_page):\n",
    "    try:\n",
    "        table = flat_page.find('table', attrs = {'class':'object_descr_props'})\n",
    "        table = html_stripper(table)\n",
    "        new = re.split('Тип дома:|Тип продажи', table)[1]\n",
    "        for i in re.split('-|\\n', new):\n",
    "            if 'вторичка' in i:\n",
    "                return 0\n",
    "            if 'новостройка' in i:\n",
    "                return 1\n",
    "        return np.NaN\n",
    "    except: \n",
    "        return np.NaN "
   ]
  },
  {
   "cell_type": "code",
   "execution_count": 12,
   "metadata": {
    "collapsed": false
   },
   "outputs": [],
   "source": [
    "def getTotsp(flat_page):\n",
    "    try:\n",
    "        table = flat_page.find('table', attrs = {'class':'object_descr_props'})\n",
    "        table = html_stripper(table)\n",
    "        Totsp = re.split('Общая площадь:|Площадь комнат', table)[1]\n",
    "        for i in re.split('-|\\n', Totsp):\n",
    "            if '\\xa0м2' in i:\n",
    "                a_0 = re.split('\\xa0', i)[0]\n",
    "                return int(re.split('-|,',a_0)[0])\n",
    "        return np.NaN\n",
    "    except: \n",
    "        return np.NaN "
   ]
  },
  {
   "cell_type": "code",
   "execution_count": 13,
   "metadata": {
    "collapsed": false
   },
   "outputs": [],
   "source": [
    "def getKitsp(flat_page):\n",
    "    try:\n",
    "        table = flat_page.find('table', attrs = {'class':'object_descr_props'})\n",
    "        table = html_stripper(table)\n",
    "        Kitsp = re.split('Площадь кухни:|санузлов', table)[1]\n",
    "        for i in re.split('-|\\n', Kitsp):\n",
    "            if '\\xa0м2' in i:\n",
    "                a_0 = re.split('\\xa0', i)[0]\n",
    "                return int(re.split('-|,',a_0)[0])\n",
    "        return np.NaN\n",
    "    except: \n",
    "        return np.NaN "
   ]
  },
  {
   "cell_type": "code",
   "execution_count": 14,
   "metadata": {
    "collapsed": true
   },
   "outputs": [],
   "source": [
    "def getLivesp(flat_page):\n",
    "    try:\n",
    "        table = flat_page.find('table', attrs = {'class':'object_descr_props'})\n",
    "        table = html_stripper(table)\n",
    "        Livesp = re.split('Жилая площадь:|Площадь кухни', table)[1]\n",
    "        for i in re.split('-|\\n', Livesp):\n",
    "            if '\\xa0м2' in i:\n",
    "                a_0 = re.split('\\xa0', i)[0]\n",
    "                return int(re.split('-|,',a_0)[0])\n",
    "        return np.NaN\n",
    "    except: \n",
    "        return np.NaN "
   ]
  },
  {
   "cell_type": "code",
   "execution_count": 15,
   "metadata": {
    "collapsed": false
   },
   "outputs": [],
   "source": [
    "def getMetrdist(flat_page):  \n",
    "    try:\n",
    "        metro = flat_page.find('span', attrs = {'class':'object_item_metro_comment'})\n",
    "        metro = html_stripper(metro)\n",
    "        metro = re.split('-|\\n', metro)\n",
    "        if metro[1][len(metro[1])-2].isdigit() == True:\n",
    "                return int(metro[1][len(metro[1])-2] + metro[1][len(metro[1])-1])\n",
    "        else:\n",
    "            return int(metro[1][len(metro[1])-1])\n",
    "    except: \n",
    "        return np.NaN "
   ]
  },
  {
   "cell_type": "code",
   "execution_count": 16,
   "metadata": {
    "collapsed": false
   },
   "outputs": [],
   "source": [
    "def getWalk(flat_page):\n",
    "    try:\n",
    "        metro = flat_page.find('span', attrs = {'class':'object_item_metro_comment'})\n",
    "        metro = html_stripper(metro)\n",
    "        metro = re.split('-|\\n', metro)    \n",
    "        for i in metro:\n",
    "            if 'пешком' in i:\n",
    "                return 1\n",
    "        return 0\n",
    "    except: \n",
    "        return np.NaN "
   ]
  },
  {
   "cell_type": "code",
   "execution_count": 17,
   "metadata": {
    "collapsed": false
   },
   "outputs": [],
   "source": [
    "def getBrick(flat_page):\n",
    "    try:\n",
    "        table = flat_page.find('table', attrs = {'class':'object_descr_props'})\n",
    "        table = html_stripper(table)\n",
    "        Brick = re.split('Тип дома:|Тип продажи', table)[1]\n",
    "        for i in re.split('-|\\n', Brick):\n",
    "            i = i.replace(' ','')\n",
    "            if ('кирпичный' in i) or ('монолитный' in i) or ('панельный' in i):\n",
    "                return 1\n",
    "        return 0\n",
    "    except: \n",
    "        return np.NaN "
   ]
  },
  {
   "cell_type": "code",
   "execution_count": 18,
   "metadata": {
    "collapsed": false
   },
   "outputs": [],
   "source": [
    "def getTel(flat_page):\n",
    "    try:\n",
    "        table = flat_page.find('table', attrs = {'class':'object_descr_props'})\n",
    "        table = html_stripper(table)\n",
    "        Tel = re.split('Телефон:|Вид из окна', table)[1]\n",
    "        for i in re.split('-|\\n', Tel):\n",
    "            if 'да' in i:\n",
    "                return 1\n",
    "        return 0\n",
    "    except: \n",
    "        return np.NaN "
   ]
  },
  {
   "cell_type": "code",
   "execution_count": 19,
   "metadata": {
    "collapsed": false
   },
   "outputs": [],
   "source": [
    "def getBal(flat_page):\n",
    "    try:\n",
    "        table = flat_page.find('table', attrs = {'class':'object_descr_props'})\n",
    "        table = html_stripper(table)\n",
    "        Bal = re.split('Балкон:|Лифт', table)[1]\n",
    "        for i in re.split('-|\\n', Bal):\n",
    "            if 'да' in i:\n",
    "                return 1\n",
    "        return 0\n",
    "    except: \n",
    "        return np.NaN "
   ]
  },
  {
   "cell_type": "code",
   "execution_count": 20,
   "metadata": {
    "collapsed": true
   },
   "outputs": [],
   "source": [
    "def getFloor(flat_page):\n",
    "    try:\n",
    "        table = flat_page.find('table', attrs = {'class':'object_descr_props'})\n",
    "        table = html_stripper(table)\n",
    "        Floor = re.split('Этаж:|Тип дома', table)[1]\n",
    "        for i in re.split('-|\\n', Floor):\n",
    "            if '\\xa0' in i:\n",
    "                a = i.replace(' ','')\n",
    "                a = a.split('/',1)[0]\n",
    "                return int(a.replace('\\xa0',''))\n",
    "        return np.NaN\n",
    "    except: \n",
    "        return np.NaN "
   ]
  },
  {
   "cell_type": "code",
   "execution_count": 21,
   "metadata": {
    "collapsed": false
   },
   "outputs": [],
   "source": [
    "def getNfloors(flat_page):\n",
    "    try:\n",
    "        table = flat_page.find('table', attrs = {'class':'object_descr_props'})\n",
    "        table = html_stripper(table)\n",
    "        Nfloors = re.split('Этаж:|Тип дома', table)[1]\n",
    "        for i in re.split('-|\\n', Nfloors):\n",
    "            if '\\xa0' in i:\n",
    "                a = i.replace(' ','')\n",
    "                a = a.split('/',1)[1]\n",
    "                return int(a.replace('\\xa0',''))\n",
    "        return np.NaN\n",
    "    except: \n",
    "        return np.NaN "
   ]
  },
  {
   "cell_type": "code",
   "execution_count": 22,
   "metadata": {
    "collapsed": true
   },
   "outputs": [],
   "source": [
    "# Эта функция нам пригодится дальше, она оставляет в списке только уникальные элементы"
   ]
  },
  {
   "cell_type": "code",
   "execution_count": 23,
   "metadata": {
    "collapsed": true
   },
   "outputs": [],
   "source": [
    "def remove_dublicates(seq):\n",
    "    seen = set()\n",
    "    seen_add = seen.add\n",
    "    return [x for x in seq if not (x in seen or seen_add(x))]"
   ]
  },
  {
   "cell_type": "code",
   "execution_count": 24,
   "metadata": {
    "collapsed": true
   },
   "outputs": [],
   "source": [
    "def html_stripper(text):\n",
    "    return re.sub('<[^<]+?>', '', str(text))"
   ]
  },
  {
   "cell_type": "markdown",
   "metadata": {},
   "source": [
    "# Цикл:"
   ]
  },
  {
   "cell_type": "code",
   "execution_count": 25,
   "metadata": {
    "collapsed": true
   },
   "outputs": [],
   "source": [
    "#Вот эта ссылка позволит нам задавать количество комнат, район и номер страницы\n",
    "#С ее помощью можно выкачать почи весь Циан, так как по таким узким запросам, которые она дает, \n",
    "#почти всегда выпадает меньше 900 страниц.\n",
    "#Но пока я ее не использую, тк на выкачку всего Циана уйдет очень много времени"
   ]
  },
  {
   "cell_type": "code",
   "execution_count": 26,
   "metadata": {
    "collapsed": true
   },
   "outputs": [],
   "source": [
    "mlink = 'http://www.cian.ru/cat.php?deal_type=sale&district%5B0%5D={}&engine_version=2&offer_type=flat&p={}&room{}=1'"
   ]
  },
  {
   "cell_type": "code",
   "execution_count": 27,
   "metadata": {
    "collapsed": true
   },
   "outputs": [],
   "source": [
    "#Создем датафрейм с квартирами"
   ]
  },
  {
   "cell_type": "code",
   "execution_count": 28,
   "metadata": {
    "collapsed": true
   },
   "outputs": [],
   "source": [
    "FLATS = pd.DataFrame(columns=['n','rooms','price','totsp','livesp','kitsp','dist','metrdist','walk','brick','tel','bal','floor','nfloors','new'])"
   ]
  },
  {
   "cell_type": "code",
   "execution_count": 29,
   "metadata": {
    "collapsed": true
   },
   "outputs": [],
   "source": [
    "#Вместо той гибкой ссылки, будем использовать список вот таких больших ссылок\n",
    "#Каждая дает ссылку на один округ, с возможностью гулять по страницам"
   ]
  },
  {
   "cell_type": "code",
   "execution_count": 30,
   "metadata": {
    "collapsed": false
   },
   "outputs": [],
   "source": [
    "districts = [\\\n",
    "'http://www.cian.ru/cat.php?deal_type=sale&district%5B0%5D=13&district%5B1%5D=14&district%5B2%5D=15&district%5B3%5D=16&district%5B4%5D=17&district%5B5%5D=18&district%5B6%5D=19&district%5B7%5D=20&district%5B8%5D=21&district%5B9%5D=22&engine_version=2&offer_type=flat&p={}&room1=1&room2=1&room3=1&room4=1&room5=1&room6=1',\\\n",
    "'http://www.cian.ru/cat.php?deal_type=sale&district%5B0%5D=23&district%5B1%5D=24&district%5B10%5D=33&district%5B11%5D=34&district%5B12%5D=35&district%5B13%5D=36&district%5B14%5D=37&district%5B15%5D=38&district%5B2%5D=25&district%5B3%5D=26&district%5B4%5D=27&district%5B5%5D=28&district%5B6%5D=29&district%5B7%5D=30&district%5B8%5D=31&district%5B9%5D=32&engine_version=2&offer_type=flat&p={}&room1=1&room2=1&room3=1&room4=1&room5=1&room6=1',\\\n",
    "'http://www.cian.ru/cat.php?deal_type=sale&district%5B0%5D=39&district%5B1%5D=40&district%5B10%5D=49&district%5B11%5D=50&district%5B12%5D=51&district%5B13%5D=52&district%5B14%5D=53&district%5B15%5D=54&district%5B16%5D=55&district%5B2%5D=41&district%5B3%5D=42&district%5B4%5D=43&district%5B5%5D=44&district%5B6%5D=45&district%5B7%5D=46&district%5B8%5D=47&district%5B9%5D=48&engine_version=2&offer_type=flat&p={}&room1=1&room2=1&room3=1&room4=1&room5=1&room6=1',\\\n",
    "'http://www.cian.ru/cat.php?deal_type=sale&district%5B0%5D=56&district%5B1%5D=57&district%5B10%5D=66&district%5B11%5D=67&district%5B12%5D=68&district%5B13%5D=69&district%5B14%5D=70&district%5B15%5D=71&district%5B2%5D=58&district%5B3%5D=59&district%5B4%5D=60&district%5B5%5D=61&district%5B6%5D=62&district%5B7%5D=63&district%5B8%5D=64&district%5B9%5D=65&engine_version=2&offer_type=flat&p={}&room1=1&room2=1&room3=1&room4=1&room5=1&room6=1',\\\n",
    "'http://www.cian.ru/cat.php?deal_type=sale&district%5B0%5D=72&district%5B1%5D=73&district%5B10%5D=82&district%5B11%5D=83&district%5B2%5D=74&district%5B3%5D=75&district%5B4%5D=76&district%5B5%5D=77&district%5B6%5D=78&district%5B7%5D=79&district%5B8%5D=80&district%5B9%5D=81&engine_version=2&offer_type=flat&p={}&room1=1&room2=1&room3=1&room4=1&room5=1&room6=1',\\\n",
    "'http://www.cian.ru/cat.php?deal_type=sale&district%5B0%5D=84&district%5B1%5D=85&district%5B10%5D=94&district%5B11%5D=95&district%5B12%5D=96&district%5B13%5D=97&district%5B14%5D=98&district%5B15%5D=99&district%5B2%5D=86&district%5B3%5D=87&district%5B4%5D=88&district%5B5%5D=89&district%5B6%5D=90&district%5B7%5D=91&district%5B8%5D=92&district%5B9%5D=93&engine_version=2&offer_type=flat&p={}&room1=1&room2=1&room3=1&room4=1&room5=1&room6=1',\\\n",
    "'http://www.cian.ru/cat.php?deal_type=sale&district%5B0%5D=100&district%5B1%5D=101&district%5B10%5D=110&district%5B11%5D=111&district%5B2%5D=102&district%5B3%5D=103&district%5B4%5D=104&district%5B5%5D=105&district%5B6%5D=106&district%5B7%5D=107&district%5B8%5D=108&district%5B9%5D=109&engine_version=2&offer_type=flat&p={}&room1=1&room2=1&room3=1&room4=1&room5=1&room6=1',\\\n",
    "'http://www.cian.ru/cat.php?deal_type=sale&district%5B0%5D=112&district%5B1%5D=113&district%5B10%5D=122&district%5B11%5D=123&district%5B12%5D=124&district%5B13%5D=348&district%5B14%5D=349&district%5B15%5D=350&district%5B2%5D=114&district%5B3%5D=115&district%5B4%5D=116&district%5B5%5D=117&district%5B6%5D=118&district%5B7%5D=119&district%5B8%5D=120&district%5B9%5D=121&engine_version=2&offer_type=flat&p={}&room1=1&room2=1&room3=1&room4=1&room5=1&room6=1',\\\n",
    "'http://www.cian.ru/cat.php?deal_type=sale&district%5B0%5D=125&district%5B1%5D=126&district%5B2%5D=127&district%5B3%5D=128&district%5B4%5D=129&district%5B5%5D=130&district%5B6%5D=131&district%5B7%5D=132&engine_version=2&offer_type=flat&p={}&room1=1&room2=1&room3=1&room4=1&room5=1&room6=1'\\\n",
    "            ]"
   ]
  },
  {
   "cell_type": "code",
   "execution_count": 31,
   "metadata": {
    "collapsed": true
   },
   "outputs": [],
   "source": [
    "#Теперь запускаем цикл, который идет по округам и по страничкам в округах.\n",
    "#В каждом округе выкачиваем 30 страниц, и если случай мы вакачали две одинаковые квартиры (такое бывает!),\n",
    "#то выкидываем повторяющиеся элементы с помощью заранее приготовленной функции.\n",
    "#В каждый параметр записываем результат специально приготовленной для него функции."
   ]
  },
  {
   "cell_type": "code",
   "execution_count": 32,
   "metadata": {
    "collapsed": true
   },
   "outputs": [],
   "source": [
    "f_link = \"http://www.cian.ru/sale/flat/{}\""
   ]
  },
  {
   "cell_type": "code",
   "execution_count": 33,
   "metadata": {
    "collapsed": false,
    "scrolled": true
   },
   "outputs": [],
   "source": [
    "count = 0\n",
    "for district in districts:\n",
    "    \n",
    "    links = []\n",
    "    for page in range(1, 31):\n",
    "        try:\n",
    "            page_url =  district.format(page)\n",
    "\n",
    "            search_page = requests.get(page_url)\n",
    "            search_page = search_page.content\n",
    "            search_page = BeautifulSoup(search_page, 'lxml')\n",
    "\n",
    "            flat_urls = search_page.findAll('div', attrs = {'ng-class':\"{'serp-item_removed': offer.remove.state, 'serp-item_popup-opened': isPopupOpen}\"})\n",
    "            flat_urls = re.split('http://www.cian.ru/sale/flat/|/\" ng-class=\"', str(flat_urls))\n",
    "\n",
    "\n",
    "            for link in flat_urls:\n",
    "                if link.isdigit():\n",
    "                    links.append(link)\n",
    "        except:\n",
    "            print('!!!')\n",
    "            \n",
    "    links = remove_dublicates(links)\n",
    "    \n",
    "    for link in links:\n",
    "        try:\n",
    "            count = count + 1\n",
    "\n",
    "            flat_page = requests.get(f_link.format(link))\n",
    "            flat_page = flat_page.content\n",
    "            flat_page = BeautifulSoup(flat_page, 'lxml')\n",
    "            to_append = {'n':count,'rooms':getRoom(flat_page),\\\n",
    "                         'price':getPrice(flat_page),\\\n",
    "                         'totsp':getTotsp(flat_page),\\\n",
    "                         'livesp':getLivesp(flat_page),\\\n",
    "                         'kitsp':getKitsp(flat_page),\\\n",
    "                         'dist':getDist(flat_page),\\\n",
    "                         'metrdist':getMetrdist(flat_page),\\\n",
    "                         'walk':getWalk(flat_page),\\\n",
    "                         'brick':getBrick(flat_page),\\\n",
    "                         'tel':getTel(flat_page),\\\n",
    "                         'bal':getBal(flat_page),\\\n",
    "                         'floor':getFloor(flat_page),\\\n",
    "                         'nfloors':getNfloors(flat_page),\\\n",
    "                         'new':getNew(flat_page),\\\n",
    "                        }\n",
    "            FLATS = FLATS.append(to_append, ignore_index=True)\n",
    "        except:\n",
    "            print('!!!')\n",
    "        "
   ]
  },
  {
   "cell_type": "code",
   "execution_count": 34,
   "metadata": {
    "collapsed": true
   },
   "outputs": [],
   "source": [
    "#Вот массив с квартирами"
   ]
  },
  {
   "cell_type": "code",
   "execution_count": 35,
   "metadata": {
    "collapsed": false
   },
   "outputs": [],
   "source": [
    "FLATS.to_csv('C:/Users/Ivan/Desktop/FLATS.csv')"
   ]
  },
  {
   "cell_type": "code",
   "execution_count": null,
   "metadata": {
    "collapsed": true
   },
   "outputs": [],
   "source": []
  }
 ],
 "metadata": {
  "anaconda-cloud": {},
  "kernelspec": {
   "display_name": "Python [conda root]",
   "language": "python",
   "name": "conda-root-py"
  },
  "language_info": {
   "codemirror_mode": {
    "name": "ipython",
    "version": 3
   },
   "file_extension": ".py",
   "mimetype": "text/x-python",
   "name": "python",
   "nbconvert_exporter": "python",
   "pygments_lexer": "ipython3",
   "version": "3.5.2"
  }
 },
 "nbformat": 4,
 "nbformat_minor": 1
}
